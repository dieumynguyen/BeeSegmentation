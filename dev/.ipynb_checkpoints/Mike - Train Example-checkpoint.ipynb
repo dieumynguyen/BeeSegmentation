{
 "cells": [
  {
   "cell_type": "code",
   "execution_count": 1,
   "metadata": {},
   "outputs": [],
   "source": [
    "import torch\n",
    "import torch.nn as nn\n",
    "import os\n",
    "import sys\n",
    "import cv2\n",
    "import glob\n",
    "import numpy as np\n",
    "import matplotlib.pyplot as plt\n",
    "# Pytorch\n",
    "import torch\n",
    "import torch.optim as optim\n",
    "import torchvision.transforms\n",
    "from torchvision.utils import make_grid\n",
    "from torch.utils.data import Dataset, DataLoader\n",
    "if 'pwd' not in globals():\n",
    "    pwd = os.getcwd()\n",
    "os.chdir('..')\n",
    "from modules.Dataset import BeeDataset\n",
    "import modules.transforms as T\n",
    "os.chdir(pwd)"
   ]
  },
  {
   "cell_type": "code",
   "execution_count": 2,
   "metadata": {},
   "outputs": [],
   "source": [
    "CROP_DIM = 512\n",
    "data_root = '../data/processed'"
   ]
  },
  {
   "cell_type": "code",
   "execution_count": 3,
   "metadata": {},
   "outputs": [],
   "source": [
    "transforms = torchvision.transforms.Compose([\n",
    "    T.RandomCropper(CROP_DIM),\n",
    "    T.LRFlipper(),\n",
    "    T.Rotator(),\n",
    "    T.ToTensor(),\n",
    "    T.Normalizer()\n",
    "])"
   ]
  },
  {
   "cell_type": "code",
   "execution_count": 4,
   "metadata": {},
   "outputs": [
    {
     "name": "stdout",
     "output_type": "stream",
     "text": [
      "Loading paths...\n",
      "Num paths loaded: 10\n"
     ]
    }
   ],
   "source": [
    "dataset = BeeDataset(data_root=data_root, transforms=transforms)"
   ]
  },
  {
   "cell_type": "code",
   "execution_count": 5,
   "metadata": {},
   "outputs": [],
   "source": [
    "loader = DataLoader(dataset, batch_size=2)"
   ]
  },
  {
   "cell_type": "code",
   "execution_count": 6,
   "metadata": {},
   "outputs": [],
   "source": [
    "def cprint(key, x):\n",
    "    if VERBOSE:\n",
    "        print(f\"{key:15s} {x.detach().numpy().shape}\")"
   ]
  },
  {
   "cell_type": "code",
   "execution_count": 7,
   "metadata": {},
   "outputs": [],
   "source": [
    "class Unet(nn.Module):\n",
    "    def __init__(self, n_classes):\n",
    "        super().__init__()\n",
    "        self._build_encoder()\n",
    "        self._build_decoder()\n",
    "        self.final_layer = nn.Conv2d(32*2, n_classes, 1, stride=1, padding=0)\n",
    "        self.activation = nn.ReLU()\n",
    "        self.final_activation = nn.Sigmoid()\n",
    "    \n",
    "    def _build_encoder(self):\n",
    "        print('Building encoder')\n",
    "        self.conv_1a = nn.Conv2d(\n",
    "            in_channels=1,\n",
    "            out_channels=32,\n",
    "            kernel_size=(3,3),\n",
    "            stride=1,\n",
    "            padding=1\n",
    "        )\n",
    "        self.conv_1b = nn.Conv2d(32, 32, 3, stride=1, padding=1)\n",
    "        \n",
    "        self.pool_2 = nn.MaxPool2d(2)\n",
    "        self.conv_2a = nn.Conv2d(32, 64, 3, stride=1, padding=1)\n",
    "        self.conv_2b = nn.Conv2d(64, 64, 3, stride=1, padding=1)\n",
    "        \n",
    "        self.pool_3 = nn.MaxPool2d(2)\n",
    "        self.conv_3a = nn.Conv2d(64, 128, 3, stride=1, padding=1)\n",
    "        self.conv_3b = nn.Conv2d(128, 128, 3, stride=1, padding=1)\n",
    "        \n",
    "        self.pool_4 = nn.MaxPool2d(2)\n",
    "        self.conv_4a = nn.Conv2d(128, 256, 3, stride=1, padding=1)\n",
    "        self.conv_4b = nn.Conv2d(256, 256, 3, stride=1, padding=1)\n",
    "    \n",
    "    def _build_decoder(self): \n",
    "        print('Building decoder')\n",
    "        self.up_3 = nn.ConvTranspose2d(256, 128, 2, stride=2, padding=0)\n",
    "        self.D_conv_3a = nn.Conv2d(128*2, 128, 3, stride=1, padding=1)\n",
    "        self.D_conv_3b = nn.Conv2d(128, 128, 3, stride=1, padding=1)\n",
    "        \n",
    "        self.up_2 = nn.ConvTranspose2d(128, 64, 2, stride=2, padding=0)\n",
    "        self.D_conv_2a = nn.Conv2d(64*2, 64, 3, stride=1, padding=1)\n",
    "        self.D_conv_2b = nn.Conv2d(64, 64, 3, stride=1, padding=1)\n",
    "        \n",
    "        self.up_1 = nn.ConvTranspose2d(64, 32, 2, stride=2, padding=0)\n",
    "        self.D_conv_1a = nn.Conv2d(32*2, 32, 3, stride=1, padding=1)\n",
    "        self.D_conv_1b = nn.Conv2d(32, 32, 3, stride=1, padding=1)\n",
    "     \n",
    "        self.prev_state = None\n",
    "        \n",
    "    def forward(self, x):\n",
    "        cprint('X', x)\n",
    "        \n",
    "        # Encoder\n",
    "        out = self.activation(self.conv_1a(x))\n",
    "        cprint(\"E1a\", out)\n",
    "        E1_out = self.activation(self.conv_1b(out))\n",
    "        cprint(\"E1b\", E1_out)\n",
    "        \n",
    "        out = self.pool_2(E1_out)\n",
    "        cprint(\"pool_2\", out)\n",
    "        out = self.activation(self.conv_2a(out))\n",
    "        cprint(\"E2a\", out)\n",
    "        E2_out = self.activation(self.conv_2b(out))\n",
    "        cprint(\"E2b\", E2_out)\n",
    "        \n",
    "        out = self.pool_3(E2_out)\n",
    "        cprint(\"pool_3\", out)\n",
    "        out = self.activation(self.conv_3a(out))\n",
    "        cprint(\"E3a\", out)\n",
    "        E3_out = self.activation(self.conv_3b(out))\n",
    "        cprint(\"E3b\", E3_out)\n",
    "        \n",
    "        out = self.pool_4(E3_out)\n",
    "        cprint(\"pool_4\", out)\n",
    "        out = self.activation(self.conv_4a(out))\n",
    "        cprint(\"E4a\", out)\n",
    "        out = self.activation(self.conv_4b(out))\n",
    "        cprint(\"E4b\", out)\n",
    "        \n",
    "        # Decoder\n",
    "        out = self.up_3(out)\n",
    "        out = torch.cat([out, E3_out], dim=1)\n",
    "        cprint(\"up_3\", out)\n",
    "        out = self.activation(self.D_conv_3a(out))\n",
    "        cprint(\"D3a\", out)\n",
    "        out = self.activation(self.D_conv_3b(out))\n",
    "        cprint(\"D3b\", out)\n",
    "        \n",
    "        out = self.up_2(out)\n",
    "        out = torch.cat([out, E2_out], dim=1)\n",
    "        cprint(\"up_2\", out)\n",
    "        out = self.activation(self.D_conv_2a(out))\n",
    "        cprint(\"D2a\", out)\n",
    "        out = self.activation(self.D_conv_2b(out))\n",
    "        cprint(\"D2b\", out)\n",
    "        \n",
    "        out = self.up_1(out)\n",
    "        out = torch.cat([out, E1_out], dim=1)\n",
    "        cprint(\"up_1\", out)\n",
    "        out = self.activation(self.D_conv_1a(out))\n",
    "        cprint(\"D1a\", out)\n",
    "        out = self.activation(self.D_conv_1b(out))\n",
    "        cprint(\"D1b\", out)\n",
    "        \n",
    "        # Time delay\n",
    "        # ----------------------------------------\n",
    "        if self.prev_state is not None:\n",
    "            prev_state = self.prev_state\n",
    "        else:\n",
    "            prev_state = torch.zeros_like(out)\n",
    "        self.prev_state = out.detach()\n",
    "        out = torch.cat([out, prev_state], dim=1)\n",
    "        # ----------------------------------------\n",
    "        \n",
    "        out = self.final_layer(out)\n",
    "        cprint(\"out\", out)\n",
    "        return out"
   ]
  },
  {
   "cell_type": "code",
   "execution_count": 14,
   "metadata": {},
   "outputs": [],
   "source": [
    "VERBOSE = False"
   ]
  },
  {
   "cell_type": "code",
   "execution_count": 15,
   "metadata": {},
   "outputs": [],
   "source": [
    "n_classes = 3"
   ]
  },
  {
   "cell_type": "code",
   "execution_count": 16,
   "metadata": {
    "scrolled": true
   },
   "outputs": [
    {
     "name": "stdout",
     "output_type": "stream",
     "text": [
      "Building encoder\n",
      "Building decoder\n"
     ]
    }
   ],
   "source": [
    "model = Unet(3).train()"
   ]
  },
  {
   "cell_type": "code",
   "execution_count": 17,
   "metadata": {},
   "outputs": [],
   "source": [
    "optimizer = optim.Adam(model.parameters(), lr=0.005)"
   ]
  },
  {
   "cell_type": "code",
   "execution_count": 18,
   "metadata": {},
   "outputs": [],
   "source": [
    "criterion = nn.CrossEntropyLoss()"
   ]
  },
  {
   "cell_type": "code",
   "execution_count": null,
   "metadata": {},
   "outputs": [
    {
     "name": "stdout",
     "output_type": "stream",
     "text": [
      "Epoch 1/10 - Batch 4/5 Avg Loss: 1.0676"
     ]
    }
   ],
   "source": [
    "losses = []\n",
    "n_epochs = 10\n",
    "for epoch_i in range(n_epochs):\n",
    "    for batch_i, (X, y) in enumerate(loader):\n",
    "        optimizer.zero_grad()\n",
    "        out = model(X)\n",
    "        loss = criterion(out, y.long().squeeze(dim=1))\n",
    "        loss.backward()\n",
    "        optimizer.step()\n",
    "        \n",
    "        losses.append(loss.item())\n",
    "        \n",
    "        stdout_str = f'\\rEpoch {epoch_i+1}/{n_epochs} - '\n",
    "        stdout_str += f'Batch {batch_i+1}/{len(loader)} '\n",
    "        stdout_str += f'Avg Loss: {np.mean(losses):0.4f}'\n",
    "        sys.stdout.write(stdout_str)\n",
    "        sys.stdout.flush()"
   ]
  },
  {
   "cell_type": "code",
   "execution_count": null,
   "metadata": {},
   "outputs": [],
   "source": [
    "plt.plot(losses)"
   ]
  }
 ],
 "metadata": {
  "kernelspec": {
   "display_name": "Python 3",
   "language": "python",
   "name": "python3"
  },
  "language_info": {
   "codemirror_mode": {
    "name": "ipython",
    "version": 3
   },
   "file_extension": ".py",
   "mimetype": "text/x-python",
   "name": "python",
   "nbconvert_exporter": "python",
   "pygments_lexer": "ipython3",
   "version": "3.6.10"
  }
 },
 "nbformat": 4,
 "nbformat_minor": 2
}
