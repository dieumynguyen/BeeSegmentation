{
 "cells": [
  {
   "cell_type": "code",
   "execution_count": 60,
   "metadata": {},
   "outputs": [],
   "source": [
    "import numpy as np\n",
    "import torch\n",
    "import torch.nn as nn"
   ]
  },
  {
   "cell_type": "code",
   "execution_count": 61,
   "metadata": {},
   "outputs": [],
   "source": [
    "# batch, channels, dimensions\n",
    "X = torch.zeros(2, 1, 256, 256)"
   ]
  },
  {
   "cell_type": "code",
   "execution_count": 62,
   "metadata": {},
   "outputs": [],
   "source": [
    "class UNet(nn.Module):\n",
    "    def __init__(self):\n",
    "        super().__init__()\n",
    "        \n",
    "        self.maxpool = nn.MaxPool2d(2)\n",
    "        self.activation = nn.ReLU()\n",
    "        \n",
    "        # Or kernel = 1\n",
    "        self.final_layer = nn.Conv2d(32, 1, 3, stride=1, padding=1)\n",
    "        \n",
    "        self.build_encoder()\n",
    "        self.build_decoder()\n",
    "        \n",
    "    def build_conv_layer(self, in_channels, out_channels):\n",
    "        layer = nn.Sequential(\n",
    "            # in_channels, out_channels, kernel_size, stride=1, padding=0\n",
    "            nn.Conv2d(in_channels, out_channels, 3, stride=1, padding=1),\n",
    "            self.activation,\n",
    "            nn.Conv2d(out_channels, out_channels, 3, stride=1, padding=1),\n",
    "            self.activation\n",
    "        )\n",
    "        return layer\n",
    "        \n",
    "    def build_encoder(self):\n",
    "        self.E_layer_1 = self.build_conv_layer(1, 32)\n",
    "        self.E_layer_2 = self.build_conv_layer(32, 64)\n",
    "        self.E_layer_3 = self.build_conv_layer(64, 128)\n",
    "        self.E_layer_4 = self.build_conv_layer(128, 256)\n",
    "        \n",
    "    def build_decoder(self):\n",
    "        self.up_1 = nn.ConvTranspose2d(256, 256, 2, 2, 0)\n",
    "        self.D_layer_1 = self.build_conv_layer(256+128, 128)\n",
    "        self.up_2 = nn.ConvTranspose2d(128, 128, 2, 2, 0)\n",
    "        self.D_layer_2 = self.build_conv_layer(128+64, 64)\n",
    "        self.up_3 = nn.ConvTranspose2d(64, 64, 2, 2, 0)\n",
    "        self.D_layer_3 = self.build_conv_layer(64+32, 32)\n",
    "        \n",
    "    def forward(self, x):\n",
    "        # Encoder\n",
    "        E1_out = self.E_layer_1(x)  # conv affects num channels\n",
    "        \n",
    "        out = self.maxpool(E1_out)  # max pool affects dimensions, not num channels\n",
    "        E2_out = self.E_layer_2(out)\n",
    "        \n",
    "        out = self.maxpool(E2_out)\n",
    "        E3_out = self.E_layer_3(out)\n",
    "        \n",
    "        # Bottleneck\n",
    "        out = self.maxpool(E3_out)\n",
    "        bn = self.E_layer_4(out)\n",
    "        \n",
    "        # Decoder\n",
    "        out = self.up_1(bn)\n",
    "        out = torch.cat([out, E3_out], dim=1)\n",
    "        D1_out = self.D_layer_1(out)\n",
    "        \n",
    "        out = self.up_2(D1_out)\n",
    "        out = torch.cat([out, E2_out], dim=1)\n",
    "        D2_out = self.D_layer_2(out)\n",
    "        \n",
    "        out = self.up_3(D2_out)\n",
    "        out = torch.cat([out, E1_out], dim=1)\n",
    "        out = self.D_layer_3(out)\n",
    "        \n",
    "        out = self.final_layer(out)\n",
    "        \n",
    "        return out"
   ]
  },
  {
   "cell_type": "code",
   "execution_count": 63,
   "metadata": {},
   "outputs": [],
   "source": [
    "net = UNet()"
   ]
  },
  {
   "cell_type": "code",
   "execution_count": 64,
   "metadata": {},
   "outputs": [
    {
     "data": {
      "text/plain": [
       "torch.Size([2, 1, 256, 256])"
      ]
     },
     "execution_count": 64,
     "metadata": {},
     "output_type": "execute_result"
    }
   ],
   "source": [
    "net(X).shape"
   ]
  },
  {
   "cell_type": "code",
   "execution_count": 65,
   "metadata": {},
   "outputs": [],
   "source": [
    "def compute_dims(i, k, p, s):\n",
    "    o = np.floor((i - k + 2*p)/s) + 1\n",
    "    return o"
   ]
  },
  {
   "cell_type": "code",
   "execution_count": null,
   "metadata": {},
   "outputs": [],
   "source": []
  },
  {
   "cell_type": "code",
   "execution_count": null,
   "metadata": {},
   "outputs": [],
   "source": []
  }
 ],
 "metadata": {
  "kernelspec": {
   "display_name": "Python 3",
   "language": "python",
   "name": "python3"
  },
  "language_info": {
   "codemirror_mode": {
    "name": "ipython",
    "version": 3
   },
   "file_extension": ".py",
   "mimetype": "text/x-python",
   "name": "python",
   "nbconvert_exporter": "python",
   "pygments_lexer": "ipython3",
   "version": "3.6.10"
  }
 },
 "nbformat": 4,
 "nbformat_minor": 2
}
