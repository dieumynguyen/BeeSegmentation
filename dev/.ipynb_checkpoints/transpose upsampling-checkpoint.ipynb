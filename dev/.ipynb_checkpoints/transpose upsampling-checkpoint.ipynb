{
 "cells": [
  {
   "cell_type": "code",
   "execution_count": 3,
   "metadata": {},
   "outputs": [],
   "source": [
    "import numpy as np\n",
    "import torch\n",
    "import torch.nn as nn"
   ]
  },
  {
   "cell_type": "code",
   "execution_count": 4,
   "metadata": {},
   "outputs": [],
   "source": [
    "X = torch.Tensor(2, 1, 256, 256)"
   ]
  },
  {
   "cell_type": "code",
   "execution_count": 76,
   "metadata": {},
   "outputs": [],
   "source": [
    "class UNet(nn.Module):\n",
    "    def __init__(self):\n",
    "        super().__init__()\n",
    "        \n",
    "        self.maxpool = nn.MaxPool2d(2)\n",
    "        self.activation = nn.ReLU()\n",
    "        \n",
    "        self.final_layer = nn.Conv2d(32, 1, 3, 1, 1)\n",
    "        \n",
    "        self.build_encoder()\n",
    "        self.build_decoder()\n",
    "        \n",
    "    def build_conv_layer(self, in_channels, out_channels):\n",
    "        conv_layer = nn.Sequential(\n",
    "            nn.Conv2d(in_channels, out_channels, 3, 1, 1),\n",
    "            self.activation,\n",
    "            nn.Conv2d(out_channels, out_channels, 3, 1, 1),\n",
    "            self.activation,\n",
    "        )\n",
    "        return conv_layer\n",
    "        \n",
    "    def build_encoder(self):\n",
    "        self.E1_layer = self.build_conv_layer(1, 32)\n",
    "        self.E2_layer = self.build_conv_layer(32, 64)\n",
    "        self.E3_layer = self.build_conv_layer(64, 128)\n",
    "        self.E4_layer = self.build_conv_layer(128, 256)\n",
    "        \n",
    "    def build_decoder(self):\n",
    "        self.up1 = nn.ConvTranspose2d(256, 256, 2, 2, 0)\n",
    "        self.D1_layer = self.build_conv_layer(256+128, 128)\n",
    "        self.up2 = nn.ConvTranspose2d(128, 128, 2, 2, 0)\n",
    "        self.D2_layer = self.build_conv_layer(128+64, 64)\n",
    "        self.up3 = nn.ConvTranspose2d(64, 64, 2, 2, 0)\n",
    "        self.D3_layer = self.build_conv_layer(64+32, 32) \n",
    "        \n",
    "    def forward(self, x):\n",
    "        out = x\n",
    "        \n",
    "        # Encoder\n",
    "        print(out.shape)\n",
    "        E1_out = self.E1_layer(out)\n",
    "        print(E1_out.shape)\n",
    "        \n",
    "        out = self.maxpool(E1_out)\n",
    "        E2_out = self.E2_layer(out)\n",
    "        print(E2_out.shape)\n",
    "        \n",
    "        out = self.maxpool(E2_out)\n",
    "        E3_out = self.E3_layer(out)\n",
    "        print(E3_out.shape)\n",
    "        \n",
    "        out = self.maxpool(E3_out)\n",
    "        bn = self.E4_layer(out)\n",
    "        print(bn.shape)\n",
    "\n",
    "        # Decoder\n",
    "        out = self.up1(bn)\n",
    "        out = torch.cat([out, E3_out], dim=1)\n",
    "        D1_out = self.D1_layer(out)\n",
    "        print(D1_out.shape)\n",
    "        \n",
    "        out = self.up2(D1_out)\n",
    "        out = torch.cat([out, E2_out], dim=1)\n",
    "        D2_out = self.D2_layer(out)\n",
    "        print(D2_out.shape)\n",
    "        \n",
    "        out = self.up3(D2_out)\n",
    "        out = torch.cat([out, E1_out], dim=1)\n",
    "        D3_out = self.D3_layer(out)\n",
    "        print(D3_out.shape)\n",
    "\n",
    "        out = self.final_layer(D3_out)\n",
    "        \n",
    "        return out"
   ]
  },
  {
   "cell_type": "code",
   "execution_count": 77,
   "metadata": {},
   "outputs": [],
   "source": [
    "net = UNet()"
   ]
  },
  {
   "cell_type": "code",
   "execution_count": 78,
   "metadata": {
    "scrolled": false
   },
   "outputs": [
    {
     "name": "stdout",
     "output_type": "stream",
     "text": [
      "torch.Size([2, 1, 256, 256])\n",
      "torch.Size([2, 32, 256, 256])\n",
      "torch.Size([2, 64, 128, 128])\n",
      "torch.Size([2, 128, 64, 64])\n",
      "torch.Size([2, 256, 32, 32])\n",
      "torch.Size([2, 128, 64, 64])\n",
      "torch.Size([2, 64, 128, 128])\n",
      "torch.Size([2, 32, 256, 256])\n"
     ]
    }
   ],
   "source": [
    "net(X);"
   ]
  },
  {
   "cell_type": "code",
   "execution_count": null,
   "metadata": {},
   "outputs": [],
   "source": []
  }
 ],
 "metadata": {
  "kernelspec": {
   "display_name": "Python 3",
   "language": "python",
   "name": "python3"
  },
  "language_info": {
   "codemirror_mode": {
    "name": "ipython",
    "version": 3
   },
   "file_extension": ".py",
   "mimetype": "text/x-python",
   "name": "python",
   "nbconvert_exporter": "python",
   "pygments_lexer": "ipython3",
   "version": "3.6.10"
  }
 },
 "nbformat": 4,
 "nbformat_minor": 2
}
