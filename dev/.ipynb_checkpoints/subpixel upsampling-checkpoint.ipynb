{
 "cells": [
  {
   "cell_type": "code",
   "execution_count": 2,
   "metadata": {},
   "outputs": [],
   "source": [
    "import numpy as np\n",
    "import torch\n",
    "import torch.nn as nn"
   ]
  },
  {
   "cell_type": "code",
   "execution_count": 3,
   "metadata": {},
   "outputs": [],
   "source": [
    "X = torch.Tensor(2, 1, 256, 256)"
   ]
  },
  {
   "cell_type": "code",
   "execution_count": 110,
   "metadata": {},
   "outputs": [],
   "source": [
    "class UNet(nn.Module):\n",
    "    def __init__(self, upsampling='subpixel'):\n",
    "        super().__init__()\n",
    "        \n",
    "        self.upsampling = upsampling\n",
    "        \n",
    "        self.maxpool = nn.MaxPool2d(2)\n",
    "        self.activation = nn.ReLU()\n",
    "        self.final_layer = nn.Conv2d(32, 1, 3, 1, 1)\n",
    "        \n",
    "        self.build_encoder()\n",
    "        self.build_decoder()\n",
    "    \n",
    "    def build_layer(self, in_channels, out_channels):\n",
    "        layer = nn.Sequential(\n",
    "            nn.Conv2d(in_channels, out_channels, 3, 1, 1),\n",
    "            self.activation,\n",
    "            nn.Conv2d(out_channels, out_channels, 3, 1, 1),\n",
    "            self.activation,\n",
    "        )\n",
    "        return layer\n",
    "        \n",
    "    def build_encoder(self):\n",
    "        self.E1_layer = self.build_layer(1, 32)\n",
    "        self.E2_layer = self.build_layer(32, 64)\n",
    "        self.E3_layer = self.build_layer(64, 128)\n",
    "        self.E4_layer = self.build_layer(128, 256)\n",
    "        \n",
    "    def build_decoder(self, r=2):\n",
    "        if self.upsampling == 'subpixel':\n",
    "            self.up = nn.PixelShuffle(r)\n",
    "\n",
    "            self.D1a_conv = nn.Conv2d(256, 128*r**2, 3, stride=1, padding=1)\n",
    "            self.D1b_conv = nn.Conv2d(128+128, 128, 3, stride=1, padding=1)\n",
    "\n",
    "            self.D2a_conv = nn.Conv2d(128, 64*r**2, 3, stride=1, padding=1)\n",
    "            self.D2b_conv = nn.Conv2d(64+64, 64, 3, stride=1, padding=1)\n",
    "\n",
    "            self.D3a_conv = nn.Conv2d(64, 32*r**2, 3, stride=1, padding=1)\n",
    "            self.D3b_conv = nn.Conv2d(32+32, 32, 3, stride=1, padding=1)\n",
    "\n",
    "        elif self.upsampling == 'transpose':\n",
    "            self.up1 = nn.ConvTranspose2d(256, 256, 2, 2, 0)\n",
    "            self.D1_layer = self.build_layer(256+128, 128)\n",
    "            \n",
    "            self.up2 = nn.ConvTranspose2d(128, 128, 2, 2, 0)\n",
    "            self.D2_layer = self.build_layer(128+64, 64)\n",
    "            \n",
    "            self.up3 = nn.ConvTranspose2d(64, 64, 2, 2, 0)\n",
    "            self.D3_layer = self.build_layer(64+32, 32) \n",
    "\n",
    "    def forward(self, x):\n",
    "        # Encoder\n",
    "        E1_out = self.E1_layer(x)\n",
    "        \n",
    "        out = self.maxpool(E1_out)\n",
    "        E2_out = self.E2_layer(out)\n",
    "        \n",
    "        out = self.maxpool(E2_out)\n",
    "        E3_out = self.E3_layer(out)\n",
    "        \n",
    "        out = self.maxpool(E3_out)\n",
    "        bottleneck = self.E4_layer(out)\n",
    "        \n",
    "        # Decoder\n",
    "        if self.upsampling == 'subpixel':\n",
    "            out = self.D1a_conv(bottleneck)\n",
    "            out = self.up(out)\n",
    "            out = torch.cat([out, E3_out], dim=1)\n",
    "            D1_out = self.D1b_conv(out)\n",
    "\n",
    "            out = self.D2a_conv(D1_out)\n",
    "            out = self.up(out)\n",
    "            out = torch.cat([out, E2_out], dim=1)\n",
    "            D2_out = self.D2b_conv(out)\n",
    "\n",
    "            out = self.D3a_conv(D2_out)        \n",
    "            out = self.up(out)\n",
    "            out = torch.cat([out, E1_out], dim=1)\n",
    "            D3_out = self.D3b_conv(out)\n",
    "            \n",
    "        elif self.upsampling == 'transpose':\n",
    "            out = self.up1(bottleneck)\n",
    "            out = torch.cat([out, E3_out], dim=1)\n",
    "            D1_out = self.D1_layer(out)\n",
    "\n",
    "            out = self.up2(D1_out)\n",
    "            out = torch.cat([out, E2_out], dim=1)\n",
    "            D2_out = self.D2_layer(out)\n",
    "\n",
    "            out = self.up3(D2_out)\n",
    "            out = torch.cat([out, E1_out], dim=1)\n",
    "            D3_out = self.D3_layer(out)\n",
    "\n",
    "        out = self.final_layer(D3_out)\n",
    "        \n",
    "        return out"
   ]
  },
  {
   "cell_type": "code",
   "execution_count": 113,
   "metadata": {},
   "outputs": [],
   "source": [
    "net = UNet(upsampling='subpixel')"
   ]
  },
  {
   "cell_type": "code",
   "execution_count": 114,
   "metadata": {},
   "outputs": [
    {
     "data": {
      "text/plain": [
       "torch.Size([2, 1, 256, 256])"
      ]
     },
     "execution_count": 114,
     "metadata": {},
     "output_type": "execute_result"
    }
   ],
   "source": [
    "output = net(X)\n",
    "output.shape"
   ]
  },
  {
   "cell_type": "code",
   "execution_count": null,
   "metadata": {},
   "outputs": [],
   "source": []
  },
  {
   "cell_type": "code",
   "execution_count": null,
   "metadata": {},
   "outputs": [],
   "source": []
  }
 ],
 "metadata": {
  "kernelspec": {
   "display_name": "Python 3",
   "language": "python",
   "name": "python3"
  },
  "language_info": {
   "codemirror_mode": {
    "name": "ipython",
    "version": 3
   },
   "file_extension": ".py",
   "mimetype": "text/x-python",
   "name": "python",
   "nbconvert_exporter": "python",
   "pygments_lexer": "ipython3",
   "version": "3.6.10"
  }
 },
 "nbformat": 4,
 "nbformat_minor": 2
}
