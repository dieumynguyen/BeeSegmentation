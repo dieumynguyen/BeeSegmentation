{
 "cells": [
  {
   "cell_type": "code",
   "execution_count": null,
   "metadata": {},
   "outputs": [],
   "source": [
    "%load_ext autoreload\n",
    "%autoreload 2"
   ]
  },
  {
   "cell_type": "code",
   "execution_count": null,
   "metadata": {},
   "outputs": [],
   "source": [
    "# General\n",
    "import os\n",
    "import sys\n",
    "import cv2\n",
    "import glob\n",
    "import json\n",
    "import pandas as pd\n",
    "import numpy as np\n",
    "from datetime import datetime\n",
    "\n",
    "# Plotting\n",
    "import seaborn as sns\n",
    "import matplotlib.pyplot as plt\n",
    "sns.set(style=\"ticks\")\n",
    "plt.rcParams[\"font.family\"] = \"Arial\""
   ]
  },
  {
   "cell_type": "code",
   "execution_count": null,
   "metadata": {},
   "outputs": [],
   "source": [
    "CROP_DIM = (512, 512)\n",
    "BEE_OBJECT_SIZES = {1: (20, 35),  # bee class is labeled 1\n",
    "                    2: (20, 20)}  # butt class is labeled 2"
   ]
  },
  {
   "cell_type": "code",
   "execution_count": null,
   "metadata": {},
   "outputs": [],
   "source": [
    "frames_root = '/Users/dieumynguyen/Desktop/DenseObjectDetection/dataset/frames'\n",
    "txt_root = '/Users/dieumynguyen/Desktop/DenseObjectDetection/dataset/frames_txt'"
   ]
  },
  {
   "cell_type": "code",
   "execution_count": null,
   "metadata": {},
   "outputs": [],
   "source": [
    "replace = lambda x : x.replace('/frames/', '/frames_txt/').replace('.png', '.txt')"
   ]
  },
  {
   "cell_type": "code",
   "execution_count": null,
   "metadata": {},
   "outputs": [],
   "source": [
    "frame_paths = np.sort(glob.glob(f'{frames_root}/*'))\n",
    "txt_paths = [replace(frame_path) for frame_path in frame_paths]"
   ]
  },
  {
   "cell_type": "code",
   "execution_count": null,
   "metadata": {},
   "outputs": [],
   "source": [
    "assert np.all([os.path.exists(txt_path) for txt_path in txt_paths]), 'No'"
   ]
  },
  {
   "cell_type": "code",
   "execution_count": null,
   "metadata": {},
   "outputs": [],
   "source": [
    "def ellipse_around_point(image, xc, yc, angle, r1, r2, value):\n",
    "\n",
    "    image_size = image.shape\n",
    "\n",
    "    ind0 = np.arange(-xc, image_size[0] - xc)[:, np.newaxis] * np.ones((1, image_size[1]))\n",
    "    ind1 = np.arange(-yc, image_size[1] - yc)[np.newaxis, :] * np.ones((image_size[0], 1))\n",
    "    ind = np.concatenate([ind0[np.newaxis], ind1[np.newaxis]], axis=0)\n",
    "\n",
    "    sin_a = np.sin(angle)\n",
    "    cos_a = np.cos(angle)\n",
    "\n",
    "    image[((ind[0, :, :] * sin_a + ind[1, :, :] * cos_a) ** 2 / r1 ** 2 + (\n",
    "            ind[1, :, :] * sin_a - ind[0, :, :] * cos_a) ** 2 / r2 ** 2) <= 1] = value\n",
    "\n",
    "    return image"
   ]
  },
  {
   "cell_type": "code",
   "execution_count": null,
   "metadata": {},
   "outputs": [],
   "source": [
    "def make_crop_mask(cropped_image, df):\n",
    "    \n",
    "    cropped_mask = np.zeros(cropped_image.shape[:2])\n",
    "    \n",
    "    for i, row in df.iterrows():\n",
    "        sys.stdout.write(f'\\rProcessing bee: {i+1}/{len(df)}')\n",
    "        sys.stdout.flush()\n",
    "\n",
    "        topleft_x = row.x_offset\n",
    "        topleft_y = row.y_offset\n",
    "        local_xoffset = row.x_offset - min_x\n",
    "        local_yoffset = row.y_offset - min_y\n",
    "        xc = row.x + local_xoffset\n",
    "        yc = row.y + local_yoffset\n",
    "        value = row['class']\n",
    "        angle = row.angle\n",
    "        r1 = BEE_OBJECT_SIZES[value][0]\n",
    "        r2 = BEE_OBJECT_SIZES[value][1]\n",
    "\n",
    "        ellipse_around_point(cropped_mask, yc, xc, angle, r1, r2, value)\n",
    "\n",
    "    return cropped_mask"
   ]
  },
  {
   "cell_type": "code",
   "execution_count": null,
   "metadata": {},
   "outputs": [],
   "source": [
    "for i, (frame_path, txt_path) in enumerate(zip(frame_paths, txt_paths)):\n",
    "    sys.stdout.write(f'\\rFrame {i}/{len(frame_paths)}')\n",
    "    sys.stdout.flush()\n",
    "\n",
    "    # Read image\n",
    "    img = cv2.imread(frame_path)\n",
    "\n",
    "    # Read txt into dataframe\n",
    "    df = pd.read_csv(txt_path, sep='\\t', header=None)\n",
    "    df.columns = ['x_offset', 'y_offset', 'class', 'x', 'y', 'angle']\n",
    "    \n",
    "    # Group offset columns\n",
    "    df['offset'] = list(zip(df.x_offset, df.y_offset))\n",
    "    \n",
    "    # Get min, max offsets\n",
    "    max_x = df.x_offset.max()\n",
    "    min_x = df.x_offset.min()\n",
    "\n",
    "    max_y = df.y_offset.max()\n",
    "    min_y = df.y_offset.min()\n",
    "    \n",
    "    # Make cropped image\n",
    "    cropped_image = img[min_y:max_y, min_x:max_x]\n",
    "\n",
    "    # Make cropped mask\n",
    "    cropped_mask = make_crop_mask(cropped_image, df)\n",
    "\n",
    "    break"
   ]
  },
  {
   "cell_type": "code",
   "execution_count": null,
   "metadata": {},
   "outputs": [],
   "source": [
    "plt.figure(figsize=(18,9))\n",
    "plt.imshow(cropped_image)\n",
    "plt.show()"
   ]
  },
  {
   "cell_type": "code",
   "execution_count": null,
   "metadata": {
    "scrolled": false
   },
   "outputs": [],
   "source": [
    "plt.figure(figsize=(18,9))\n",
    "plt.imshow(cropped_mask)\n",
    "plt.show()"
   ]
  },
  {
   "cell_type": "code",
   "execution_count": null,
   "metadata": {},
   "outputs": [],
   "source": []
  }
 ],
 "metadata": {
  "kernelspec": {
   "display_name": "Python 3",
   "language": "python",
   "name": "python3"
  },
  "language_info": {
   "codemirror_mode": {
    "name": "ipython",
    "version": 3
   },
   "file_extension": ".py",
   "mimetype": "text/x-python",
   "name": "python",
   "nbconvert_exporter": "python",
   "pygments_lexer": "ipython3",
   "version": "3.6.10"
  }
 },
 "nbformat": 4,
 "nbformat_minor": 2
}
