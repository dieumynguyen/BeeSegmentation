{
 "cells": [
  {
   "cell_type": "code",
   "execution_count": 92,
   "metadata": {},
   "outputs": [],
   "source": [
    "import numpy as np\n",
    "import torch\n",
    "import torch.nn as nn"
   ]
  },
  {
   "cell_type": "code",
   "execution_count": 93,
   "metadata": {},
   "outputs": [],
   "source": [
    "X = torch.zeros(2, 1, 256, 256)"
   ]
  },
  {
   "cell_type": "code",
   "execution_count": 94,
   "metadata": {},
   "outputs": [],
   "source": [
    "class UNet(nn.Module):\n",
    "    def __init__(self):\n",
    "        super().__init__()\n",
    "        \n",
    "        self.maxpool = nn.MaxPool2d(2)\n",
    "        self.activation = nn.ReLU()\n",
    "        \n",
    "        self.build_encoder()\n",
    "        self.build_decoder()\n",
    "        \n",
    "        self.final_layer = nn.Conv2d(32, 1, 1)\n",
    "        \n",
    "    def build_conv_layer(self, in_channels, out_channels):\n",
    "        layer = nn.Sequential(\n",
    "            nn.Conv2d(in_channels, out_channels, 3, stride=1, padding=1),\n",
    "            self.activation,\n",
    "            nn.Conv2d(out_channels, out_channels, 3, stride=1, padding=1),\n",
    "            self.activation\n",
    "        )\n",
    "        return layer\n",
    "        \n",
    "    def build_encoder(self):\n",
    "        self.E_layer_1 = self.build_conv_layer(1, 32)\n",
    "        self.E_layer_2 = self.build_conv_layer(32, 64)\n",
    "        self.E_layer_3 = self.build_conv_layer(64, 128)\n",
    "        self.E_layer_4 = self.build_conv_layer(128, 256)\n",
    "        \n",
    "    def build_decoder(self):\n",
    "        self.up_1 = nn.ConvTranspose2d(256, 256, 2, 2, 0)\n",
    "        self.D_layer_1 = self.build_conv_layer(256+128, 128)\n",
    "        self.up_2 = nn.ConvTranspose2d(128, 128, 2, 2, 0)\n",
    "        self.D_layer_2 = self.build_conv_layer(128+64, 64)\n",
    "        self.up_3 = nn.ConvTranspose2d(64, 64, 2, 2, 0)\n",
    "        self.D_layer_3 = self.build_conv_layer(64+32, 32)\n",
    "        \n",
    "    def forward(self, x):\n",
    "        # Out dim = (32, 256, 256)\n",
    "        E1_out = self.E_layer_1(x)\n",
    "        print(f'E1_out: {E1_out.shape}')\n",
    "        \n",
    "        out = self.maxpool(E1_out)\n",
    "        print(f'out: {out.shape}')\n",
    "        # Out dim = (64, 128, 128)\n",
    "        E2_out = self.E_layer_2(out)\n",
    "        print(f'E2_out: {E2_out.shape}')\n",
    "        \n",
    "        out = self.maxpool(E2_out)\n",
    "        print(f'out: {out.shape}')\n",
    "        # Out dim = (128, 64, 64)\n",
    "        E3_out = self.E_layer_3(out)\n",
    "        print(f'E3_out: {E3_out.shape}')\n",
    "        \n",
    "        # bottleneck\n",
    "        out = self.maxpool(E3_out)\n",
    "        print(f'out: {out.shape}')\n",
    "        # Out dim = (256, 32, 32)\n",
    "        bn = self.E_layer_4(out)\n",
    "        print(f'bn: {bn.shape}')\n",
    "        \n",
    "        # Out dim = (256, 64, 64)\n",
    "        out = self.up_1(bn)\n",
    "        print(f'out: {out.shape}')\n",
    "        # Out dim = (256+128, 64, 64)\n",
    "        out = torch.cat([out, E3_out], dim=1)\n",
    "        print(f'out + E3_out: {out.shape}')\n",
    "        out = self.D_layer_1(out)\n",
    "        print(f'D1 out: {out.shape}')\n",
    "        \n",
    "        # Out dim = (128, 128, 128)\n",
    "        out = self.up_2(out)\n",
    "        print(f'out: {out.shape}')\n",
    "        # Out dim = (128+64, 128, 128)\n",
    "        out = torch.cat([out, E2_out], dim=1)\n",
    "        print(f'out + E2_out: {out.shape}')\n",
    "\n",
    "        out = self.D_layer_2(out)\n",
    "        print(f'out: {out.shape}')\n",
    "        \n",
    "        # Out dim = (64, 256, 256)\n",
    "        out = self.up_3(out)\n",
    "        print(f'out: {out.shape}')\n",
    "        # Out dim = (64+32, 256, 256)\n",
    "        out = torch.cat([out, E1_out], dim=1)\n",
    "        print(f'out: {out.shape}')\n",
    "        \n",
    "        out = self.D_layer_3(out)\n",
    "        print(f'out: {out.shape}')\n",
    "        \n",
    "        out = self.final_layer(out)\n",
    "    \n",
    "        return out"
   ]
  },
  {
   "cell_type": "code",
   "execution_count": 96,
   "metadata": {},
   "outputs": [],
   "source": [
    "net = UNet()"
   ]
  },
  {
   "cell_type": "code",
   "execution_count": 97,
   "metadata": {},
   "outputs": [
    {
     "name": "stdout",
     "output_type": "stream",
     "text": [
      "E1_out: torch.Size([2, 32, 256, 256])\n",
      "out: torch.Size([2, 32, 128, 128])\n",
      "E2_out: torch.Size([2, 64, 128, 128])\n",
      "out: torch.Size([2, 64, 64, 64])\n",
      "E3_out: torch.Size([2, 128, 64, 64])\n",
      "out: torch.Size([2, 128, 32, 32])\n",
      "bn: torch.Size([2, 256, 32, 32])\n",
      "out: torch.Size([2, 256, 64, 64])\n",
      "out + E3_out: torch.Size([2, 384, 64, 64])\n",
      "D1 out: torch.Size([2, 128, 64, 64])\n",
      "out: torch.Size([2, 128, 128, 128])\n",
      "out + E2_out: torch.Size([2, 192, 128, 128])\n",
      "out: torch.Size([2, 64, 128, 128])\n",
      "out: torch.Size([2, 64, 256, 256])\n",
      "out: torch.Size([2, 96, 256, 256])\n",
      "out: torch.Size([2, 32, 256, 256])\n"
     ]
    },
    {
     "data": {
      "text/plain": [
       "torch.Size([2, 1, 256, 256])"
      ]
     },
     "execution_count": 97,
     "metadata": {},
     "output_type": "execute_result"
    }
   ],
   "source": [
    "out = net(X)\n",
    "out.shape"
   ]
  },
  {
   "cell_type": "code",
   "execution_count": null,
   "metadata": {},
   "outputs": [],
   "source": []
  },
  {
   "cell_type": "code",
   "execution_count": null,
   "metadata": {},
   "outputs": [],
   "source": []
  }
 ],
 "metadata": {
  "kernelspec": {
   "display_name": "Python 3",
   "language": "python",
   "name": "python3"
  },
  "language_info": {
   "codemirror_mode": {
    "name": "ipython",
    "version": 3
   },
   "file_extension": ".py",
   "mimetype": "text/x-python",
   "name": "python",
   "nbconvert_exporter": "python",
   "pygments_lexer": "ipython3",
   "version": "3.6.10"
  }
 },
 "nbformat": 4,
 "nbformat_minor": 2
}
