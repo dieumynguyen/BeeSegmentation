{
 "cells": [
  {
   "cell_type": "code",
   "execution_count": 15,
   "metadata": {},
   "outputs": [],
   "source": [
    "import torch\n",
    "import torch.nn as nn"
   ]
  },
  {
   "cell_type": "code",
   "execution_count": 16,
   "metadata": {},
   "outputs": [],
   "source": [
    "X = torch.zeros((2, 1, 256, 256))"
   ]
  },
  {
   "cell_type": "code",
   "execution_count": 17,
   "metadata": {},
   "outputs": [
    {
     "data": {
      "text/plain": [
       "torch.nn.modules.activation.ReLU"
      ]
     },
     "execution_count": 17,
     "metadata": {},
     "output_type": "execute_result"
    }
   ],
   "source": [
    "nn.Conv2d\n",
    "nn.MaxPool2d\n",
    "nn.ConvTranspose2d\n",
    "nn.ReLU"
   ]
  },
  {
   "cell_type": "code",
   "execution_count": 57,
   "metadata": {},
   "outputs": [],
   "source": [
    "def cprint(key, x):\n",
    "    print(f\"{key:15s} {x.detach().numpy().shape}\")"
   ]
  },
  {
   "cell_type": "code",
   "execution_count": 81,
   "metadata": {},
   "outputs": [],
   "source": [
    "class Unet(nn.Module):\n",
    "    def __init__(self, n_classes):\n",
    "        super().__init__()\n",
    "        self._build_encoder()\n",
    "        self._build_decoder()\n",
    "        self.final_layer = nn.Conv2d(32*2, n_classes, 1, stride=1, padding=0)\n",
    "        self.activation = nn.ReLU()\n",
    "        self.final_activation = nn.Sigmoid()\n",
    "    \n",
    "    def _build_encoder(self):\n",
    "        print('Building encoder')\n",
    "        self.conv_1a = nn.Conv2d(\n",
    "            in_channels=1,\n",
    "            out_channels=32,\n",
    "            kernel_size=(3,3),\n",
    "            stride=1,\n",
    "            padding=1\n",
    "        )\n",
    "        self.conv_1b = nn.Conv2d(32, 32, 3, stride=1, padding=1)\n",
    "        \n",
    "        self.pool_2 = nn.MaxPool2d(2)\n",
    "        self.conv_2a = nn.Conv2d(32, 64, 3, stride=1, padding=1)\n",
    "        self.conv_2b = nn.Conv2d(64, 64, 3, stride=1, padding=1)\n",
    "        \n",
    "        self.pool_3 = nn.MaxPool2d(2)\n",
    "        self.conv_3a = nn.Conv2d(64, 128, 3, stride=1, padding=1)\n",
    "        self.conv_3b = nn.Conv2d(128, 128, 3, stride=1, padding=1)\n",
    "        \n",
    "        self.pool_4 = nn.MaxPool2d(2)\n",
    "        self.conv_4a = nn.Conv2d(128, 256, 3, stride=1, padding=1)\n",
    "        self.conv_4b = nn.Conv2d(256, 256, 3, stride=1, padding=1)\n",
    "    \n",
    "    def _build_decoder(self): \n",
    "        print('Building decoder')\n",
    "        self.up_3 = nn.ConvTranspose2d(256, 128, 2, stride=2, padding=0)\n",
    "        self.D_conv_3a = nn.Conv2d(128*2, 128, 3, stride=1, padding=1)\n",
    "        self.D_conv_3b = nn.Conv2d(128, 128, 3, stride=1, padding=1)\n",
    "        \n",
    "        self.up_2 = nn.ConvTranspose2d(128, 64, 2, stride=2, padding=0)\n",
    "        self.D_conv_2a = nn.Conv2d(64*2, 64, 3, stride=1, padding=1)\n",
    "        self.D_conv_2b = nn.Conv2d(64, 64, 3, stride=1, padding=1)\n",
    "        \n",
    "        self.up_1 = nn.ConvTranspose2d(64, 32, 2, stride=2, padding=0)\n",
    "        self.D_conv_1a = nn.Conv2d(32*2, 32, 3, stride=1, padding=1)\n",
    "        self.D_conv_1b = nn.Conv2d(32, 32, 3, stride=1, padding=1)\n",
    "     \n",
    "        self.prev_state = None\n",
    "        \n",
    "    def forward(self, x):\n",
    "        cprint('X', X)\n",
    "        \n",
    "        # Encoder\n",
    "        print(\"Encoder\")\n",
    "        out = self.activation(self.conv_1a(x))\n",
    "        cprint(\"E1a\", out)\n",
    "        E1_out = self.activation(self.conv_1b(out))\n",
    "        cprint(\"E1b\", E1_out)\n",
    "        print(\"\\n\")\n",
    "        \n",
    "        out = self.pool_2(E1_out)\n",
    "        cprint(\"pool_2\", out)\n",
    "        out = self.activation(self.conv_2a(out))\n",
    "        cprint(\"E2a\", out)\n",
    "        E2_out = self.activation(self.conv_2b(out))\n",
    "        cprint(\"E2b\", E2_out)\n",
    "        print(\"\\n\")\n",
    "        \n",
    "        out = self.pool_3(E2_out)\n",
    "        cprint(\"pool_3\", out)\n",
    "        out = self.activation(self.conv_3a(out))\n",
    "        cprint(\"E3a\", out)\n",
    "        E3_out = self.activation(self.conv_3b(out))\n",
    "        cprint(\"E3b\", E3_out)\n",
    "        print(\"\\n\")\n",
    "        \n",
    "        out = self.pool_4(E3_out)\n",
    "        cprint(\"pool_4\", out)\n",
    "        out = self.activation(self.conv_4a(out))\n",
    "        cprint(\"E4a\", out)\n",
    "        out = self.activation(self.conv_4b(out))\n",
    "        cprint(\"E4b\", out)\n",
    "        print(\"\\n\")\n",
    "        \n",
    "        # Decoder\n",
    "        print(\"Decoder\")\n",
    "        out = self.up_3(out)\n",
    "        out = torch.cat([out, E3_out], dim=1)\n",
    "        cprint(\"up_3\", out)\n",
    "        out = self.activation(self.D_conv_3a(out))\n",
    "        cprint(\"D3a\", out)\n",
    "        out = self.activation(self.D_conv_3b(out))\n",
    "        cprint(\"D3b\", out)\n",
    "        print(\"\\n\")\n",
    "        \n",
    "        out = self.up_2(out)\n",
    "        out = torch.cat([out, E2_out], dim=1)\n",
    "        cprint(\"up_2\", out)\n",
    "        out = self.activation(self.D_conv_2a(out))\n",
    "        cprint(\"D2a\", out)\n",
    "        out = self.activation(self.D_conv_2b(out))\n",
    "        cprint(\"D2b\", out)\n",
    "        print(\"\\n\")\n",
    "        \n",
    "        out = self.up_1(out)\n",
    "        out = torch.cat([out, E1_out], dim=1)\n",
    "        cprint(\"up_1\", out)\n",
    "        out = self.activation(self.D_conv_1a(out))\n",
    "        cprint(\"D1a\", out)\n",
    "        out = self.activation(self.D_conv_1b(out))\n",
    "        cprint(\"D1b\", out)\n",
    "        \n",
    "        # Time delay\n",
    "        # ----------------------------------------\n",
    "        if self.prev_state is not None:\n",
    "            prev_state = self.prev_state\n",
    "        else:\n",
    "            prev_state = torch.zeros_like(out)\n",
    "        self.prev_state = out.detach()\n",
    "        out = torch.cat([out, prev_state], dim=1)\n",
    "        # ----------------------------------------\n",
    "        \n",
    "        out = self.final_layer(out)\n",
    "        cprint(\"out\", out)\n",
    "        return out"
   ]
  },
  {
   "cell_type": "code",
   "execution_count": 82,
   "metadata": {},
   "outputs": [
    {
     "name": "stdout",
     "output_type": "stream",
     "text": [
      "Building encoder\n",
      "Building decoder\n"
     ]
    }
   ],
   "source": [
    "unet = Unet(3)"
   ]
  },
  {
   "cell_type": "code",
   "execution_count": 83,
   "metadata": {},
   "outputs": [
    {
     "name": "stdout",
     "output_type": "stream",
     "text": [
      "X               (2, 1, 256, 256)\n",
      "Encoder\n",
      "E1a             (2, 32, 256, 256)\n",
      "E1b             (2, 32, 256, 256)\n",
      "\n",
      "\n",
      "pool_2          (2, 32, 128, 128)\n",
      "E2a             (2, 64, 128, 128)\n",
      "E2b             (2, 64, 128, 128)\n",
      "\n",
      "\n",
      "pool_3          (2, 64, 64, 64)\n",
      "E3a             (2, 128, 64, 64)\n",
      "E3b             (2, 128, 64, 64)\n",
      "\n",
      "\n",
      "pool_4          (2, 128, 32, 32)\n",
      "E4a             (2, 256, 32, 32)\n",
      "E4b             (2, 256, 32, 32)\n",
      "\n",
      "\n",
      "Decoder\n",
      "up_3            (2, 256, 64, 64)\n",
      "D3a             (2, 128, 64, 64)\n",
      "D3b             (2, 128, 64, 64)\n",
      "\n",
      "\n",
      "up_2            (2, 128, 128, 128)\n",
      "D2a             (2, 64, 128, 128)\n",
      "D2b             (2, 64, 128, 128)\n",
      "\n",
      "\n",
      "up_1            (2, 64, 256, 256)\n",
      "D1a             (2, 32, 256, 256)\n",
      "D1b             (2, 32, 256, 256)\n",
      "out             (2, 3, 256, 256)\n"
     ]
    },
    {
     "data": {
      "text/plain": [
       "torch.Size([2, 3, 256, 256])"
      ]
     },
     "execution_count": 83,
     "metadata": {},
     "output_type": "execute_result"
    }
   ],
   "source": [
    "out = unet(X)\n",
    "out.shape"
   ]
  },
  {
   "cell_type": "code",
   "execution_count": null,
   "metadata": {},
   "outputs": [],
   "source": [
    "X.shape"
   ]
  },
  {
   "cell_type": "code",
   "execution_count": null,
   "metadata": {},
   "outputs": [],
   "source": []
  },
  {
   "cell_type": "code",
   "execution_count": null,
   "metadata": {},
   "outputs": [],
   "source": []
  },
  {
   "cell_type": "code",
   "execution_count": 10,
   "metadata": {},
   "outputs": [],
   "source": [
    "X = torch.zeros((2, 3, 32, 32)) # CIFAR10"
   ]
  },
  {
   "cell_type": "code",
   "execution_count": 11,
   "metadata": {},
   "outputs": [],
   "source": [
    "class CNN(nn.Module):\n",
    "    def __init__(self):\n",
    "        super().__init__()\n",
    "        self.conv1 = nn.Conv2d(3, 8, kernel_size=3, padding=1, stride=1)\n",
    "        self.conv2 = nn.Conv2d(8, 16, kernel_size=3, padding=1, stride=1)\n",
    "    \n",
    "    def forward(self, x):\n",
    "        out = self.conv1(x)\n",
    "        out = self.conv2(out)\n",
    "        return out"
   ]
  },
  {
   "cell_type": "code",
   "execution_count": 12,
   "metadata": {},
   "outputs": [],
   "source": [
    "cnn = CNN()"
   ]
  },
  {
   "cell_type": "code",
   "execution_count": 13,
   "metadata": {},
   "outputs": [],
   "source": [
    "out = cnn(X)"
   ]
  },
  {
   "cell_type": "code",
   "execution_count": 14,
   "metadata": {},
   "outputs": [
    {
     "data": {
      "text/plain": [
       "torch.Size([2, 16, 32, 32])"
      ]
     },
     "execution_count": 14,
     "metadata": {},
     "output_type": "execute_result"
    }
   ],
   "source": [
    "out.shape"
   ]
  },
  {
   "cell_type": "code",
   "execution_count": null,
   "metadata": {},
   "outputs": [],
   "source": []
  }
 ],
 "metadata": {
  "kernelspec": {
   "display_name": "Python 3",
   "language": "python",
   "name": "python3"
  },
  "language_info": {
   "codemirror_mode": {
    "name": "ipython",
    "version": 3
   },
   "file_extension": ".py",
   "mimetype": "text/x-python",
   "name": "python",
   "nbconvert_exporter": "python",
   "pygments_lexer": "ipython3",
   "version": "3.6.10"
  }
 },
 "nbformat": 4,
 "nbformat_minor": 2
}
