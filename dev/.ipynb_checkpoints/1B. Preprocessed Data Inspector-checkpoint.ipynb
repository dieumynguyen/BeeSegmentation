{
 "cells": [
  {
   "cell_type": "code",
   "execution_count": 46,
   "metadata": {},
   "outputs": [],
   "source": [
    "import os\n",
    "import glob\n",
    "import numpy as np\n",
    "\n",
    "# Plotting\n",
    "import seaborn as sns\n",
    "import matplotlib.pyplot as plt\n",
    "sns.set(style=\"ticks\")\n",
    "plt.rcParams[\"font.family\"] = \"Arial\""
   ]
  },
  {
   "cell_type": "markdown",
   "metadata": {},
   "source": [
    "# Check preprocessed data"
   ]
  },
  {
   "cell_type": "code",
   "execution_count": 47,
   "metadata": {},
   "outputs": [
    {
     "data": {
      "text/plain": [
       "True"
      ]
     },
     "execution_count": 47,
     "metadata": {},
     "output_type": "execute_result"
    }
   ],
   "source": [
    "image_root = '/home/dieumynguyen/BeeSegmentation/data/processed/images'\n",
    "os.path.exists(image_root)"
   ]
  },
  {
   "cell_type": "code",
   "execution_count": 48,
   "metadata": {},
   "outputs": [],
   "source": [
    "image_paths = glob.glob(f'{image_root}/*.npy')"
   ]
  },
  {
   "cell_type": "code",
   "execution_count": 49,
   "metadata": {},
   "outputs": [],
   "source": [
    "masks_paths = [p.replace('/images/', '/masks/') for p in image_paths]"
   ]
  },
  {
   "cell_type": "code",
   "execution_count": 50,
   "metadata": {},
   "outputs": [
    {
     "data": {
      "text/plain": [
       "(125, 100.0)"
      ]
     },
     "execution_count": 50,
     "metadata": {},
     "output_type": "execute_result"
    }
   ],
   "source": [
    "len(image_paths), sum([os.path.exists(p) for p in masks_paths]) / len(masks_paths) * 100"
   ]
  },
  {
   "cell_type": "code",
   "execution_count": 51,
   "metadata": {},
   "outputs": [],
   "source": [
    "frames = np.sort([np.load(image) for image in image_paths])"
   ]
  },
  {
   "cell_type": "code",
   "execution_count": 52,
   "metadata": {},
   "outputs": [],
   "source": [
    "masks = np.sort([np.load(mask) for mask in masks_paths])"
   ]
  },
  {
   "cell_type": "code",
   "execution_count": 53,
   "metadata": {},
   "outputs": [
    {
     "data": {
      "text/plain": [
       "(1756, 1744)"
      ]
     },
     "execution_count": 53,
     "metadata": {},
     "output_type": "execute_result"
    }
   ],
   "source": [
    "frames[0].shape"
   ]
  },
  {
   "cell_type": "code",
   "execution_count": 54,
   "metadata": {},
   "outputs": [
    {
     "data": {
      "text/plain": [
       "<matplotlib.image.AxesImage at 0x7fe9e31cb880>"
      ]
     },
     "execution_count": 54,
     "metadata": {},
     "output_type": "execute_result"
    },
    {
     "data": {
      "image/png": "[encoded data removed]",
      "text/plain": [
       "<Figure size 432x288 with 1 Axes>"
      ]
     },
     "metadata": {},
     "output_type": "display_data"
    }
   ],
   "source": [
    "plt.imshow(frames[0])"
   ]
  },
  {
   "cell_type": "markdown",
   "metadata": {},
   "source": [
    "## Load some images and masks to check"
   ]
  },
  {
   "cell_type": "code",
   "execution_count": null,
   "metadata": {
    "scrolled": true
   },
   "outputs": [],
   "source": [
    "for i, (f, m) in enumerate(zip(frames, masks)): \n",
    "    fig, ax = plt.subplots(1,3, figsize=(15,10), dpi=150)\n",
    "    ax[0].imshow(f, 'gray')\n",
    "    ax[1].imshow(m)\n",
    "    \n",
    "    # Make overlay of frame and mask\n",
    "    overlay = f.copy()\n",
    "    overlay[m==0] = 0\n",
    "\n",
    "    # Show images\n",
    "    ax[2].imshow(overlay, cmap='gray')\n",
    "    \n",
    "    plt.show()\n",
    "    plt.clf()\n",
    "    \n",
    "    if i >= 2:\n",
    "        break\n"
   ]
  },
  {
   "cell_type": "markdown",
   "metadata": {},
   "source": [
    "# Pad images and masks to be divisible by crop_dim=256"
   ]
  },
  {
   "cell_type": "code",
   "execution_count": 58,
   "metadata": {},
   "outputs": [],
   "source": [
    "for image, mask in zip(image_paths, masks_paths):\n",
    "    old_img = np.load(image) \n",
    "    old_mask = np.load(mask)\n",
    "    old_shape = old_img.shape\n",
    "    new_shape = 256 * 7\n",
    "    \n",
    "    new_img = np.zeros((new_shape, new_shape))\n",
    "    new_mask = np.zeros((new_shape, new_shape))\n",
    "    \n",
    "    new_img[:old_img.shape[0], :old_img.shape[1]] = old_img\n",
    "    new_mask[:old_mask.shape[0], :old_mask.shape[1]] = old_mask\n",
    "    \n",
    "    np.save(image, new_img)\n",
    "    np.save(mask, new_mask)\n",
    "    "
   ]
  },
  {
   "cell_type": "markdown",
   "metadata": {
    "jupyter": {
     "source_hidden": true
    }
   },
   "source": [
    "# Data handler"
   ]
  },
  {
   "cell_type": "markdown",
   "metadata": {
    "heading_collapsed": "true"
   },
   "source": [
    "## Dataset Class Dev\n",
    "(dataset class converted to dataset.py) <br>\n",
    "(transform classes converted to transforms.py)"
   ]
  },
  {
   "cell_type": "code",
   "execution_count": null,
   "metadata": {},
   "outputs": [],
   "source": [
    "CROP_DIM = 512\n",
    "data_root = '/home/dieumynguyen/BeeSegmentation/data/processed'"
   ]
  },
  {
   "cell_type": "code",
   "execution_count": null,
   "metadata": {},
   "outputs": [],
   "source": [
    "import os\n",
    "import cv2\n",
    "import glob\n",
    "import numpy as np\n",
    "import matplotlib.pyplot as plt"
   ]
  },
  {
   "cell_type": "code",
   "execution_count": null,
   "metadata": {},
   "outputs": [],
   "source": [
    "# Pytorch\n",
    "import torch\n",
    "import torchvision\n",
    "import torch.nn as nn\n",
    "import torchvision.models\n",
    "import torch.optim as optim\n",
    "import torchvision.transforms\n",
    "from torchvision.utils import make_grid\n",
    "from torch.utils.data import Dataset, DataLoader\n",
    "from torch.utils.data.sampler import SubsetRandomSampler"
   ]
  },
  {
   "cell_type": "code",
   "execution_count": null,
   "metadata": {},
   "outputs": [],
   "source": [
    "class RandomCropper():\n",
    "    def __init__(self, crop_dim):\n",
    "        self.crop_dim = crop_dim\n",
    "        \n",
    "    def __call__(self, data):\n",
    "        img, mask = data\n",
    "        \n",
    "        img_shape = img.shape\n",
    "\n",
    "        x1 = np.random.randint(0, img_shape[1]-self.crop_dim)\n",
    "        y1 = np.random.randint(0, img_shape[0]-self.crop_dim)\n",
    "\n",
    "        x2 = x1 + self.crop_dim\n",
    "        y2 = y1 + self.crop_dim\n",
    "\n",
    "        img = img[y1:y2, x1:x2]\n",
    "        mask = mask[y1:y2, x1:x2]\n",
    "\n",
    "        return (img, mask)"
   ]
  },
  {
   "cell_type": "code",
   "execution_count": null,
   "metadata": {},
   "outputs": [],
   "source": [
    "class LRFlipper():\n",
    "    def __init__(self, prob=0.5):\n",
    "        self.prob = prob\n",
    "        \n",
    "    def __call__(self, data):\n",
    "        img, mask = data\n",
    "        \n",
    "        draw = np.random.uniform()\n",
    "        if draw < self.prob:\n",
    "            img = np.fliplr(img)\n",
    "            mask = np.fliplr(mask)\n",
    "\n",
    "        return (img, mask)"
   ]
  },
  {
   "cell_type": "code",
   "execution_count": null,
   "metadata": {},
   "outputs": [],
   "source": [
    "class Rotator():\n",
    "    def __init__(self, prob=0.75):\n",
    "        self.prob = prob\n",
    "        \n",
    "    def __call__(self, data):\n",
    "        img, mask = data\n",
    "        \n",
    "        \n",
    "        draw = np.random.uniform()\n",
    "        if draw < self.prob:\n",
    "            rand_k = np.random.randint(1,4)\n",
    "            img = np.rot90(img, k=rand_k)\n",
    "            mask = np.rot90(mask, k=rand_k)\n",
    "\n",
    "        return (img, mask)"
   ]
  },
  {
   "cell_type": "code",
   "execution_count": null,
   "metadata": {},
   "outputs": [],
   "source": [
    "class BeeDataset(Dataset):\n",
    "    def __init__(self, data_root, transforms=None):\n",
    "        self.data_root = data_root\n",
    "        self.transforms = transforms\n",
    "        \n",
    "        self.set_paths()\n",
    "        \n",
    "    def set_paths(self):\n",
    "        print('Loading paths...')\n",
    "        self.image_paths = np.sort(glob.glob(f'{self.data_root}/images/*.npy'))\n",
    "        self.mask_paths = np.array([p.replace('/images/', '/masks/') for p in self.image_paths])\n",
    "        \n",
    "        # Check for existence\n",
    "        valid_path_idxs = np.array([os.path.exists(p) for p in self.mask_paths])\n",
    "        \n",
    "        if not np.all(valid_path_idxs):\n",
    "            frac_exist = sum(valid_path_idxs) / len(valid_path_idxs) * 100\n",
    "            print(f'Fraction of existing image/mask pairs: {frac_exist}')\n",
    "            \n",
    "            # Ignore missing pairs\n",
    "            self.image_paths = self.image_paths[valid_path_idxs]\n",
    "            self.mask_paths = self.mask_paths[valid_path_idxs]\n",
    "            \n",
    "        self.n_paths = len(self.image_paths)\n",
    "        print(f'Num paths loaded: {self.n_paths}')\n",
    "        \n",
    "    def __len__(self):\n",
    "        return self.n_paths\n",
    "    \n",
    "    def __getitem__(self, idx):\n",
    "        image = np.load(self.image_paths[idx])\n",
    "        mask = np.load(self.mask_paths[idx])\n",
    "        \n",
    "        if self.transforms:\n",
    "            image, mask = self.transforms((image, mask))\n",
    "        \n",
    "        return image, mask"
   ]
  },
  {
   "cell_type": "code",
   "execution_count": null,
   "metadata": {},
   "outputs": [],
   "source": [
    "transforms = torchvision.transforms.Compose([\n",
    "    RandomCropper(CROP_DIM),\n",
    "    LRFlipper(),\n",
    "    Rotator()\n",
    "])"
   ]
  },
  {
   "cell_type": "code",
   "execution_count": null,
   "metadata": {},
   "outputs": [],
   "source": [
    "dataset = BeeDataset(data_root=data_root, transforms=transforms)"
   ]
  },
  {
   "cell_type": "code",
   "execution_count": null,
   "metadata": {},
   "outputs": [],
   "source": [
    "loader = DataLoader(dataset, batch_size=10)"
   ]
  },
  {
   "cell_type": "markdown",
   "metadata": {
    "heading_collapsed": "true"
   },
   "source": [
    "## Croppings"
   ]
  },
  {
   "cell_type": "code",
   "execution_count": null,
   "metadata": {},
   "outputs": [],
   "source": [
    "for i, (f, m) in enumerate(zip(frames, masks)): \n",
    "    break"
   ]
  },
  {
   "cell_type": "code",
   "execution_count": null,
   "metadata": {},
   "outputs": [],
   "source": [
    "plt.imshow(f, 'gray')"
   ]
  },
  {
   "cell_type": "code",
   "execution_count": null,
   "metadata": {},
   "outputs": [],
   "source": [
    "plt.imshow(m)"
   ]
  },
  {
   "cell_type": "code",
   "execution_count": null,
   "metadata": {},
   "outputs": [],
   "source": [
    "crop_dim = 256\n",
    "img, mask = f, m\n",
    "img_shape = img.shape\n",
    "img_shape"
   ]
  },
  {
   "cell_type": "code",
   "execution_count": null,
   "metadata": {},
   "outputs": [],
   "source": [
    "# Random croppings\n",
    "x1 = np.random.randint(0, img_shape[1]-crop_dim)\n",
    "y1 = np.random.randint(0, img_shape[0]-crop_dim)\n",
    "\n",
    "x2 = x1 + crop_dim\n",
    "y2 = y1 + crop_dim\n",
    "\n",
    "img = img[y1:y2, x1:x2]\n",
    "mask = mask[y1:y2, x1:x2]\n"
   ]
  },
  {
   "cell_type": "code",
   "execution_count": null,
   "metadata": {},
   "outputs": [],
   "source": [
    "plt.imshow(img, 'gray')"
   ]
  },
  {
   "cell_type": "code",
   "execution_count": null,
   "metadata": {},
   "outputs": [],
   "source": [
    "# Sequential croppings\n",
    "x1 = \n",
    "y1 = \n",
    "\n",
    "img2 = img[y1:y2, x1:x2]\n",
    "mask2 = mask[y1:y2, x1:x2]\n"
   ]
  }
 ],
 "metadata": {
  "kernelspec": {
   "display_name": "Python 3",
   "language": "python",
   "name": "python3"
  },
  "language_info": {
   "codemirror_mode": {
    "name": "ipython",
    "version": 3
   },
   "file_extension": ".py",
   "mimetype": "text/x-python",
   "name": "python",
   "nbconvert_exporter": "python",
   "pygments_lexer": "ipython3",
   "version": "3.8.5"
  }
 },
 "nbformat": 4,
 "nbformat_minor": 4
}
